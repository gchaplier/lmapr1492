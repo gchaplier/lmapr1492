{
 "cells": [
  {
   "cell_type": "raw",
   "metadata": {},
   "source": [
    "Tout d'abord, on télécharge le fichier CIF du matériau qui nous a été attribué"
   ]
  },
  {
   "cell_type": "code",
   "execution_count": 2,
   "metadata": {},
   "outputs": [],
   "source": [
    "import pymatgen as mp\n",
    "import numpy as np\n",
    "from pymatgen.symmetry.analyzer import SpacegroupAnalyzer\n",
    "from pymatgen import MPRester\n",
    "\n",
    "with MPRester(\"6gQTbf2KhBi8mC40\") as m:\n",
    "\n",
    "    # Structure for material id\n",
    "    structure = m.get_structure_by_material_id(\"mp-9166\")"
   ]
  },
  {
   "cell_type": "raw",
   "metadata": {},
   "source": [
    "Cherchons d'abord la position des trois atomes sur lesquels nous allons appliquer nos symétries"
   ]
  },
  {
   "cell_type": "code",
   "execution_count": 12,
   "metadata": {},
   "outputs": [
    {
     "name": "stdout",
     "output_type": "stream",
     "text": [
      "[2.24718819 1.39798734 6.59488342]\n",
      "[1.85731583 1.15544574 5.45071455]\n",
      "[2.63706056 1.64052895 7.7390523 ]\n",
      "[0. 0. 0.]\n"
     ]
    }
   ],
   "source": [
    "new_s = SpacegroupAnalyzer(structure).get_primitive_standard_structure()\n",
    "atomes = structure.sites\n",
    "coord_C = atomes[0].coords\n",
    "coord_N1 = atomes[1].coords\n",
    "coord_N2 = atomes[2].coords\n",
    "coord_Mg = atomes[3].coords\n",
    "\n",
    "print(coord_C)\n",
    "print(coord_N1)\n",
    "print(coord_N2)\n",
    "print(coord_Mg)"
   ]
  },
  {
   "cell_type": "raw",
   "metadata": {},
   "source": [
    "On peut ensuite récupérer les différentes opérations de symmétrie"
   ]
  },
  {
   "cell_type": "raw",
   "metadata": {},
   "source": [
    "1er élément de symétrie: rotation sur atome de C"
   ]
  },
  {
   "cell_type": "code",
   "execution_count": 19,
   "metadata": {},
   "outputs": [
    {
     "name": "stdout",
     "output_type": "stream",
     "text": [
      "Equation: \n",
      "\n",
      "[[1. 0. 0.]\n",
      " [0. 0. 1.]\n",
      " [0. 1. 0.]] * [2.24718819 1.39798734 6.59488342] + [0. 0. 0.] = [2.24718819 6.59488342 1.39798734]\n"
     ]
    }
   ],
   "source": [
    "sga = SpacegroupAnalyzer(new_s)\n",
    "sym = sga.get_symmetry_operations()\n",
    "\n",
    "rotation = sga.get_symmetry_operations()[9].rotation_matrix\n",
    "tau_1 = sga.get_symmetry_operations()[9].translation_vector\n",
    "print(\"Equation: \\n\")\n",
    "print(rotation, \"*\", coord_C, \"+\", tau_1, \"=\", sga.get_symmetry_operations()[9].operate(coord_C))"
   ]
  },
  {
   "cell_type": "markdown",
   "metadata": {},
   "source": [
    "<img src=\"rotation1.jpg\" style=\"width:600px;height:600px\"/>"
   ]
  },
  {
   "cell_type": "markdown",
   "metadata": {},
   "source": [
    "<img src=\"rotation11.jpg\" style=\"width:600px;height:600px\"/>"
   ]
  },
  {
   "cell_type": "raw",
   "metadata": {},
   "source": [
    "2ème élément de symétrie: inversion de l'atome N1"
   ]
  },
  {
   "cell_type": "code",
   "execution_count": 22,
   "metadata": {},
   "outputs": [
    {
     "name": "stdout",
     "output_type": "stream",
     "text": [
      "Equation: \n",
      "\n",
      "[[-1.  0.  0.]\n",
      " [ 0. -1.  0.]\n",
      " [ 0.  0. -1.]] * [1.85731583 1.15544574 5.45071455] + [0. 0. 0.] = [-1.85731583 -1.15544574 -5.45071455]\n"
     ]
    }
   ],
   "source": [
    "inversion = sga.get_symmetry_operations()[1].rotation_matrix\n",
    "tau_2 = sga.get_symmetry_operations()[1].translation_vector\n",
    "print(\"Equation: \\n\")\n",
    "print(inversion, \"*\", coord_N1, \"+\", tau_2, \"=\", sga.get_symmetry_operations()[1].operate(coord_N1))"
   ]
  },
  {
   "cell_type": "markdown",
   "metadata": {},
   "source": [
    "<img src=\"inv_1.jpg\" style=\"width:600px;height:600px\"/>"
   ]
  },
  {
   "cell_type": "markdown",
   "metadata": {},
   "source": [
    "<img src=\"inv_2.jpg\" style=\"width:600px;height:600px\"/>"
   ]
  },
  {
   "cell_type": "raw",
   "metadata": {},
   "source": [
    "On peut maintenant joindre les deux opérations pour faire apparaître une nouvelle symétrie: la roto-inversion!\n",
    "On applique cette dernière opération sur l'atome N_2. J'utilise la même matrice de rotation que précédemment ainsi que la matrice d'inversion."
   ]
  },
  {
   "cell_type": "code",
   "execution_count": 24,
   "metadata": {},
   "outputs": [
    {
     "name": "stdout",
     "output_type": "stream",
     "text": [
      "Equation liée à la rotation: \n",
      "\n",
      "[[1. 0. 0.]\n",
      " [0. 0. 1.]\n",
      " [0. 1. 0.]] * [2.63706056 1.64052895 7.7390523 ] + [0. 0. 0.] = [2.63706056 7.7390523  1.64052895]\n",
      "\n",
      "\n",
      "Equation liée à l'inversion de N2 ayant déjà subi une rotation: \n",
      "\n",
      "[[-1.  0.  0.]\n",
      " [ 0. -1.  0.]\n",
      " [ 0.  0. -1.]] * [2.63706056 7.7390523  1.64052895] + [0. 0. 0.] = [-2.63706056 -7.7390523  -1.64052895]\n"
     ]
    }
   ],
   "source": [
    "rotation = sga.get_symmetry_operations()[9].rotation_matrix\n",
    "tau_1 = sga.get_symmetry_operations()[9].translation_vector\n",
    "roto = sga.get_symmetry_operations()[9].operate(coord_N2)\n",
    "print(\"Equation liée à la rotation: \\n\")\n",
    "print(rotation, \"*\", coord_N2, \"+\", tau_1, \"=\", roto)\n",
    "print(\"\\n\")\n",
    "\n",
    "inversion = sga.get_symmetry_operations()[1].rotation_matrix\n",
    "tau_2 = sga.get_symmetry_operations()[1].translation_vector\n",
    "print(\"Equation liée à l'inversion de N2 ayant déjà subi une rotation: \\n\")\n",
    "print(inversion, \"*\", roto, \"+\", tau_2, \"=\", sga.get_symmetry_operations()[1].operate(roto))"
   ]
  },
  {
   "cell_type": "markdown",
   "metadata": {},
   "source": [
    "<img src=\"roto1.jpg\" style=\"width:600px;height:600px\"/>"
   ]
  },
  {
   "cell_type": "markdown",
   "metadata": {},
   "source": [
    "<img src=\"roto2.jpg\" style=\"width:600px;height:600px\"/>"
   ]
  }
 ],
 "metadata": {
  "kernelspec": {
   "display_name": "Python 3",
   "language": "python",
   "name": "python3"
  },
  "language_info": {
   "codemirror_mode": {
    "name": "ipython",
    "version": 3
   },
   "file_extension": ".py",
   "mimetype": "text/x-python",
   "name": "python",
   "nbconvert_exporter": "python",
   "pygments_lexer": "ipython3",
   "version": "3.6.8"
  }
 },
 "nbformat": 4,
 "nbformat_minor": 2
}
