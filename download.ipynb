{
 "cells": [
  {
   "cell_type": "code",
   "execution_count": 6,
   "metadata": {},
   "outputs": [],
   "source": [
    "from pymatgen import MPRester\n",
    "from pymatgen import Structure\n",
    "from pymatgen.io.vasp import Poscar\n",
    "from pymatgen.io.cif import CifWriter\n",
    "from pprint import pprint\n",
    "#from pymatgen.io.cif import CifParser\n",
    "\n",
    "#Pour lire le fichier CIF téléchargé au préalable (pas demandé)\n",
    "\n",
    "#parser = CifParser(\"Cu_mp-30_symmetrized.cif\")\n",
    "#structure = parser.get_structures()[0]\n",
    "\n",
    "\n",
    "with MPRester(\"6gQTbf2KhBi8mC40\") as m:\n",
    "    \n",
    "    #CIF file from material's id\n",
    "    #data = m.query({\"material_id\" : \"mp-9166\"}, [\"material_id\", \"cif\"])\n",
    "\n",
    "    # Structure for material id\n",
    "    structure = m.get_structure_by_material_id(\"mp-9166\")\n",
    "    \n",
    "    w = CifWriter(structure)\n",
    "    CIF = w.write_file('MgCN2.cif')\n",
    "    "
   ]
  },
  {
   "cell_type": "code",
   "execution_count": 7,
   "metadata": {},
   "outputs": [
    {
     "name": "stdout",
     "output_type": "stream",
     "text": [
      "Full Formula (Mg1 C1 N2)\n",
      "Reduced Formula: MgCN2\n",
      "abc   :   5.106924   5.106924   5.106924\n",
      "angles:  37.741312  37.741312  37.741312\n",
      "Sites (4)\n",
      "  #  SP           a         b         c    magmom\n",
      "---  ----  --------  --------  --------  --------\n",
      "  0  C     0.5       0.5       0.5              0\n",
      "  1  N     0.413253  0.413253  0.413253         0\n",
      "  2  N     0.586747  0.586747  0.586747         0\n",
      "  3  Mg    0         0         0                0\n"
     ]
    }
   ],
   "source": [
    "# Renvoie les donnees de la structure précisee\n",
    "print(structure)"
   ]
  },
  {
   "cell_type": "code",
   "execution_count": 8,
   "metadata": {},
   "outputs": [
    {
     "name": "stdout",
     "output_type": "stream",
     "text": [
      "[{'material_id': 'mp-9166',\n",
      "  'structure': Structure Summary\n",
      "Lattice\n",
      "    abc : 5.106924050401538 5.106924049453677 5.1069240461824785\n",
      " angles : 37.74131226724911 37.74131231703462 37.7413122557526\n",
      " volume : 44.77317970233139\n",
      "      A : 3.12210897 -0.00300864 4.04142299\n",
      "      B : 1.37710365 2.80199197 4.04142299\n",
      "      C : -0.00483623 -0.00300864 5.10692087\n",
      "PeriodicSite: C (2.2472, 1.3980, 6.5949) [0.5000, 0.5000, 0.5000]\n",
      "PeriodicSite: N (1.8573, 1.1554, 5.4507) [0.4133, 0.4133, 0.4133]\n",
      "PeriodicSite: N (2.6371, 1.6405, 7.7391) [0.5867, 0.5867, 0.5867]\n",
      "PeriodicSite: Mg (0.0000, 0.0000, 0.0000) [0.0000, 0.0000, 0.0000]}]\n"
     ]
    }
   ],
   "source": [
    "# Renvoie un peu plus d informations sur la structure\n",
    "pprint(m.get_data(\"mp-9166\", prop=\"structure\"))"
   ]
  },
  {
   "cell_type": "code",
   "execution_count": 13,
   "metadata": {},
   "outputs": [],
   "source": []
  },
  {
   "cell_type": "code",
   "execution_count": 8,
   "metadata": {},
   "outputs": [],
   "source": []
  },
  {
   "cell_type": "code",
   "execution_count": null,
   "metadata": {},
   "outputs": [],
   "source": []
  },
  {
   "cell_type": "code",
   "execution_count": null,
   "metadata": {},
   "outputs": [],
   "source": []
  }
 ],
 "metadata": {
  "kernelspec": {
   "display_name": "Python 3",
   "language": "python",
   "name": "python3"
  },
  "language_info": {
   "codemirror_mode": {
    "name": "ipython",
    "version": 3
   },
   "file_extension": ".py",
   "mimetype": "text/x-python",
   "name": "python",
   "nbconvert_exporter": "python",
   "pygments_lexer": "ipython3",
   "version": "3.6.8"
  }
 },
 "nbformat": 4,
 "nbformat_minor": 2
}
