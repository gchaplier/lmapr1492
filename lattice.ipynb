{
 "cells": [
  {
   "cell_type": "code",
   "execution_count": 37,
   "metadata": {},
   "outputs": [],
   "source": [
    "import pymatgen as mp\n",
    "from pymatgen.symmetry.analyzer import SpacegroupAnalyzer\n",
    "from pymatgen import MPRester\n",
    "\n",
    "# Tout d'abord, on télécharge le fichier CIF du matériau qui nous a été attribué\n",
    "\n",
    "with MPRester(\"6gQTbf2KhBi8mC40\") as m:\n",
    "\n",
    "    # Structure for material id\n",
    "    structure = m.get_structure_by_material_id(\"mp-9166\")"
   ]
  },
  {
   "cell_type": "code",
   "execution_count": 38,
   "metadata": {},
   "outputs": [
    {
     "name": "stdout",
     "output_type": "stream",
     "text": [
      "Vecteurs de base du réseau direct:\n",
      "3.122109 -0.003009 4.041423\n",
      "1.377104 2.801992 4.041423\n",
      "-0.004836 -0.003009 5.106921\n",
      "Paramètres (a,b,c) des vecteurs du réseau direct: (5.106924050401538, 5.106924049453677, 5.1069240461824785)\n"
     ]
    }
   ],
   "source": [
    "# Nous pouvons en premier lieu retrouver les vecteurs du réseau direct\n",
    "\n",
    "# Vecteurs de base du réseau direct\n",
    "mesh = structure.lattice\n",
    "vect = mesh.abc\n",
    "\n",
    "print(\"Vecteurs de base du réseau direct:\")\n",
    "print(mesh)\n",
    "print(\"Paramètres (a,b,c) des vecteurs du réseau direct:\", vect)"
   ]
  },
  {
   "cell_type": "code",
   "execution_count": 39,
   "metadata": {},
   "outputs": [
    {
     "name": "stdout",
     "output_type": "stream",
     "text": [
      "Vecteurs de base du réseau réciproque:\n",
      "2.009818 -0.989676 0.001320\n",
      "0.000450 2.240274 0.001320\n",
      "-1.590850 -0.989676 1.228238\n",
      "Paramètres (a*,b*,c*) des vecteurs du réseau réciproque: (2.2402745710174714, 2.2402745739481573, 2.2402745722875235)\n"
     ]
    }
   ],
   "source": [
    "# Ensuite les vecteurs du réseau réciproque\n",
    "\n",
    "# Vecteurs de base du réseau réciproque   \n",
    "reciprocal_mesh = mesh.reciprocal_lattice\n",
    "reciprocal_vect = reciprocal_mesh.abc\n",
    "\n",
    "print(\"Vecteurs de base du réseau réciproque:\")\n",
    "print(reciprocal_mesh)\n",
    "print(\"Paramètres (a*,b*,c*) des vecteurs du réseau réciproque:\", reciprocal_vect)"
   ]
  },
  {
   "cell_type": "code",
   "execution_count": 40,
   "metadata": {},
   "outputs": [
    {
     "name": "stdout",
     "output_type": "stream",
     "text": [
      "Groupe d'espace: R-3m\n",
      "Dont on peut en déduire le groupe ponctuel et le type de maille ainsi que le système cristallin\n",
      "Groupe ponctuel: -3m\n",
      "Type de maille: rhombohedral\n",
      "Système cristallin: trigonal\n"
     ]
    }
   ],
   "source": [
    "# Enfin, nous pouvons obtenir le groupe d'espace, le groupe ponctuel, le type de maille et le système cristallin. \n",
    "# Toutes ces informations peuvent s'obtenir à partir de la création d'un objet \"SpacegroupAnalyzer\"\n",
    "\n",
    "# Création d'un object SpacegroupAnalyzer\n",
    "space_group_analyzer = SpacegroupAnalyzer(structure)\n",
    "\n",
    "# Groupe d'espace\n",
    "space_goup_symbol = space_group_analyzer.get_space_group_symbol()\n",
    "\n",
    "# Groupe ponctuel\n",
    "point_group = space_group_analyzer.get_point_group_symbol()\n",
    "\n",
    "# Système cristallin\n",
    "crystal_system = space_group_analyzer.get_crystal_system()\n",
    "\n",
    "# Type de maille\n",
    "mesh_type = space_group_analyzer.get_lattice_type()\n",
    "\n",
    "print(\"Groupe d'espace:\", space_goup_symbol)\n",
    "print(\"Dont on peut en déduire le groupe ponctuel et le type de maille ainsi que le système cristallin\")\n",
    "print(\"Groupe ponctuel:\",point_group)\n",
    "print(\"Type de maille:\", mesh_type)\n",
    "print(\"Système cristallin:\", crystal_system)"
   ]
  }
 ],
 "metadata": {
  "kernelspec": {
   "display_name": "Python 3",
   "language": "python",
   "name": "python3"
  },
  "language_info": {
   "codemirror_mode": {
    "name": "ipython",
    "version": 3
   },
   "file_extension": ".py",
   "mimetype": "text/x-python",
   "name": "python",
   "nbconvert_exporter": "python",
   "pygments_lexer": "ipython3",
   "version": "3.6.8"
  }
 },
 "nbformat": 4,
 "nbformat_minor": 2
}
