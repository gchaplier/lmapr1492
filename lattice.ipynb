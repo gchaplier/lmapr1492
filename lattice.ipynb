{
 "cells": [
  {
   "cell_type": "code",
   "execution_count": 46,
   "metadata": {},
   "outputs": [],
   "source": [
    "import pymatgen as mp\n",
    "from pymatgen.symmetry.analyzer import SpacegroupAnalyzer\n",
    "from pymatgen import MPRester\n",
    "\n",
    "with MPRester(\"6gQTbf2KhBi8mC40\") as m:\n",
    "\n",
    "    # Structure for material id\n",
    "    structure = m.get_structure_by_material_id(\"mp-9166\")\n",
    "    \n",
    "\n",
    "# Vecteurs de base du réseau réciproque\n",
    "mesh = structure.lattice\n",
    "    \n",
    "reciprocal_vect = mesh.abc\n",
    "\n",
    "# Vecteurs de base du réseau direct    \n",
    "reciprocal_mesh = mesh.reciprocal_lattice\n",
    "\n",
    "vect = reciprocal_mesh.abc\n",
    "\n",
    "# Création d'un object SpacegroupAnalyzer\n",
    "space_group_analyzer = SpacegroupAnalyzer(structure)\n",
    "\n",
    "# Groupe d'espace\n",
    "space_goup_symbol = space_group_analyzer.get_space_group_symbol()\n",
    "\n",
    "# Groupe ponctuel\n",
    "point_group = space_group_analyzer.get_point_group_symbol()\n",
    "\n",
    "# Système cristallin\n",
    "crystal_system = space_group_analyzer.get_crystal_system()\n",
    "\n",
    "# Type de maille\n",
    "mesh_type = space_group_analyzer.get_lattice_type()"
   ]
  },
  {
   "cell_type": "code",
   "execution_count": 48,
   "metadata": {},
   "outputs": [
    {
     "name": "stdout",
     "output_type": "stream",
     "text": [
      "Vecteur de base du réseau réciproque (a*,b*,c*): (5.106924050401538, 5.106924049453677, 5.1069240461824785)\n",
      "Vecteur de base du réseau direct (a,b,c): (2.2402745710174714, 2.2402745739481573, 2.2402745722875235)\n",
      "Groupe d'espace: R-3m\n",
      "Dont on peut en déduire le groupe ponctuel et le type de maille\n",
      "Groupe ponctuel: -3m\n",
      "Type de maille: rhombohedral\n",
      "Système cristallin: trigonal\n"
     ]
    }
   ],
   "source": [
    "print(\"Vecteur de base du réseau réciproque (a*,b*,c*):\", reciprocal_vect)\n",
    "print(\"Vecteur de base du réseau direct (a,b,c):\", vect)\n",
    "print(\"Groupe d'espace:\", space_goup_symbol)\n",
    "print(\"Dont on peut en déduire le groupe ponctuel et le type de maille\")\n",
    "print(\"Groupe ponctuel:\",point_group)\n",
    "print(\"Type de maille:\", mesh_type)\n",
    "print(\"Système cristallin:\", crystal_system)"
   ]
  }
 ],
 "metadata": {
  "kernelspec": {
   "display_name": "Python 3",
   "language": "python",
   "name": "python3"
  },
  "language_info": {
   "codemirror_mode": {
    "name": "ipython",
    "version": 3
   },
   "file_extension": ".py",
   "mimetype": "text/x-python",
   "name": "python",
   "nbconvert_exporter": "python",
   "pygments_lexer": "ipython3",
   "version": "3.6.8"
  }
 },
 "nbformat": 4,
 "nbformat_minor": 2
}
